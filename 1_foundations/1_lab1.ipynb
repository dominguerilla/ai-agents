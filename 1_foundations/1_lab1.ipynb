{
 "cells": [
  {
   "cell_type": "markdown",
   "metadata": {},
   "source": [
    "# Welcome to the start of your adventure in Agentic AI"
   ]
  },
  {
   "cell_type": "markdown",
   "metadata": {},
   "source": [
    "<table style=\"margin: 0; text-align: left; width:100%\">\n",
    "    <tr>\n",
    "        <td style=\"width: 150px; height: 150px; vertical-align: middle;\">\n",
    "            <img src=\"../assets/stop.png\" width=\"150\" height=\"150\" style=\"display: block;\" />\n",
    "        </td>\n",
    "        <td>\n",
    "            <h2 style=\"color:#ff7800;\">Are you ready for action??</h2>\n",
    "            <span style=\"color:#ff7800;\">Have you completed all the setup steps in the <a href=\"../setup/\">setup</a> folder?<br/>\n",
    "            Have you read the <a href=\"../README.md\">README</a>? Many common questions are answered here!<br/>\n",
    "            Have you checked out the guides in the <a href=\"../guides/01_intro.ipynb\">guides</a> folder?<br/>\n",
    "            Well in that case, you're ready!!\n",
    "            </span>\n",
    "        </td>\n",
    "    </tr>\n",
    "</table>"
   ]
  },
  {
   "cell_type": "markdown",
   "metadata": {},
   "source": [
    "<table style=\"margin: 0; text-align: left; width:100%\">\n",
    "    <tr>\n",
    "        <td style=\"width: 150px; height: 150px; vertical-align: middle;\">\n",
    "            <img src=\"../assets/tools.png\" width=\"150\" height=\"150\" style=\"display: block;\" />\n",
    "        </td>\n",
    "        <td>\n",
    "            <h2 style=\"color:#00bfff;\">This code is a live resource - keep an eye out for my updates</h2>\n",
    "            <span style=\"color:#00bfff;\">I push updates regularly. As people ask questions or have problems, I add more examples and improve explanations. As a result, the code below might not be identical to the videos, as I've added more steps and better comments. Consider this like an interactive book that accompanies the lectures.<br/><br/>\n",
    "            I try to send emails regularly with important updates related to the course. You can find this in the 'Announcements' section of Udemy in the left sidebar. You can also choose to receive my emails via your Notification Settings in Udemy. I'm respectful of your inbox and always try to add value with my emails!\n",
    "            </span>\n",
    "        </td>\n",
    "    </tr>\n",
    "</table>"
   ]
  },
  {
   "cell_type": "markdown",
   "metadata": {},
   "source": [
    "### And please do remember to contact me if I can help\n",
    "\n",
    "And I love to connect: https://www.linkedin.com/in/eddonner/\n",
    "\n",
    "\n",
    "### New to Notebooks like this one? Head over to the guides folder!\n",
    "\n",
    "Just to check you've already added the Python and Jupyter extensions to Cursor, if not already installed:\n",
    "- Open extensions (View >> extensions)\n",
    "- Search for python, and when the results show, click on the ms-python one, and Install it if not already installed\n",
    "- Search for jupyter, and when the results show, click on the Microsoft one, and Install it if not already installed  \n",
    "Then View >> Explorer to bring back the File Explorer.\n",
    "\n",
    "And then:\n",
    "1. Click where it says \"Select Kernel\" near the top right, and select the option called `.venv (Python 3.12.9)` or similar, which should be the first choice or the most prominent choice. You may need to choose \"Python Environments\" first.\n",
    "2. Click in each \"cell\" below, starting with the cell immediately below this text, and press Shift+Enter to run\n",
    "3. Enjoy!\n",
    "\n",
    "After you click \"Select Kernel\", if there is no option like `.venv (Python 3.12.9)` then please do the following:  \n",
    "1. On Mac: From the Cursor menu, choose Settings >> VS Code Settings (NOTE: be sure to select `VSCode Settings` not `Cursor Settings`);  \n",
    "On Windows PC: From the File menu, choose Preferences >> VS Code Settings(NOTE: be sure to select `VSCode Settings` not `Cursor Settings`)  \n",
    "2. In the Settings search bar, type \"venv\"  \n",
    "3. In the field \"Path to folder with a list of Virtual Environments\" put the path to the project root, like C:\\Users\\username\\projects\\agents (on a Windows PC) or /Users/username/projects/agents (on Mac or Linux).  \n",
    "And then try again.\n",
    "\n",
    "Having problems with missing Python versions in that list? Have you ever used Anaconda before? It might be interferring. Quit Cursor, bring up a new command line, and make sure that your Anaconda environment is deactivated:    \n",
    "`conda deactivate`  \n",
    "And if you still have any problems with conda and python versions, it's possible that you will need to run this too:  \n",
    "`conda config --set auto_activate_base false`  \n",
    "and then from within the Agents directory, you should be able to run `uv python list` and see the Python 3.12 version."
   ]
  },
  {
   "cell_type": "code",
   "execution_count": 2,
   "metadata": {},
   "outputs": [],
   "source": [
    "# First let's do an import. If you get an Import Error, double check that your Kernel is correct..\n",
    "\n",
    "from dotenv import load_dotenv\n"
   ]
  },
  {
   "cell_type": "code",
   "execution_count": 3,
   "metadata": {},
   "outputs": [
    {
     "data": {
      "text/plain": [
       "True"
      ]
     },
     "execution_count": 3,
     "metadata": {},
     "output_type": "execute_result"
    }
   ],
   "source": [
    "# Next it's time to load the API keys into environment variables\n",
    "# If this returns false, see the next cell!\n",
    "\n",
    "load_dotenv(override=True)"
   ]
  },
  {
   "cell_type": "markdown",
   "metadata": {},
   "source": [
    "### Wait, did that just output `False`??\n",
    "\n",
    "If so, the most common reason is that you didn't save your `.env` file after adding the key! Be sure to have saved.\n",
    "\n",
    "Also, make sure the `.env` file is named precisely `.env` and is in the project root directory (`agents`)\n",
    "\n",
    "By the way, your `.env` file should have a stop symbol next to it in Cursor on the left, and that's actually a good thing: that's Cursor saying to you, \"hey, I realize this is a file filled with secret information, and I'm not going to send it to an external AI to suggest changes, because your keys should not be shown to anyone else.\""
   ]
  },
  {
   "cell_type": "markdown",
   "metadata": {},
   "source": [
    "<table style=\"margin: 0; text-align: left; width:100%\">\n",
    "    <tr>\n",
    "        <td style=\"width: 150px; height: 150px; vertical-align: middle;\">\n",
    "            <img src=\"../assets/stop.png\" width=\"150\" height=\"150\" style=\"display: block;\" />\n",
    "        </td>\n",
    "        <td>\n",
    "            <h2 style=\"color:#ff7800;\">Final reminders</h2>\n",
    "            <span style=\"color:#ff7800;\">1. If you're not confident about Environment Variables or Web Endpoints / APIs, please read Topics 3 and 5 in this <a href=\"../guides/04_technical_foundations.ipynb\">technical foundations guide</a>.<br/>\n",
    "            2. If you want to use AIs other than OpenAI, like Gemini, DeepSeek or Ollama (free), please see the first section in this <a href=\"../guides/09_ai_apis_and_ollama.ipynb\">AI APIs guide</a>.<br/>\n",
    "            3. If you ever get a Name Error in Python, you can always fix it immediately; see the last section of this <a href=\"../guides/06_python_foundations.ipynb\">Python Foundations guide</a> and follow both tutorials and exercises.<br/>\n",
    "            </span>\n",
    "        </td>\n",
    "    </tr>\n",
    "</table>"
   ]
  },
  {
   "cell_type": "code",
   "execution_count": 4,
   "metadata": {},
   "outputs": [
    {
     "name": "stdout",
     "output_type": "stream",
     "text": [
      "OpenAI API Key exists and begins sk-proj-\n"
     ]
    }
   ],
   "source": [
    "# Check the key - if you're not using OpenAI, check whichever key you're using! Ollama doesn't need a key.\n",
    "\n",
    "import os\n",
    "openai_api_key = os.getenv('OPENAI_API_KEY')\n",
    "\n",
    "if openai_api_key:\n",
    "    print(f\"OpenAI API Key exists and begins {openai_api_key[:8]}\")\n",
    "else:\n",
    "    print(\"OpenAI API Key not set - please head to the troubleshooting guide in the setup folder\")\n",
    "    \n"
   ]
  },
  {
   "cell_type": "code",
   "execution_count": 5,
   "metadata": {},
   "outputs": [],
   "source": [
    "# And now - the all important import statement\n",
    "# If you get an import error - head over to troubleshooting in the Setup folder\n",
    "\n",
    "from openai import OpenAI"
   ]
  },
  {
   "cell_type": "code",
   "execution_count": 6,
   "metadata": {},
   "outputs": [],
   "source": [
    "# And now we'll create an instance of the OpenAI class\n",
    "# If you're not sure what it means to create an instance of a class - head over to the guides folder (guide 6)!\n",
    "# If you get a NameError - head over to the guides folder (guide 6)to learn about NameErrors - always instantly fixable\n",
    "# If you're not using OpenAI, you just need to slightly modify this - precise instructions are in the AI APIs guide (guide 9)\n",
    "\n",
    "openai = OpenAI()"
   ]
  },
  {
   "cell_type": "code",
   "execution_count": 7,
   "metadata": {},
   "outputs": [],
   "source": [
    "# Create a list of messages in the familiar OpenAI format\n",
    "\n",
    "messages = [{\"role\": \"user\", \"content\": \"What is 2+2?\"}]"
   ]
  },
  {
   "cell_type": "code",
   "execution_count": 8,
   "metadata": {},
   "outputs": [
    {
     "name": "stdout",
     "output_type": "stream",
     "text": [
      "2 + 2 equals 4.\n"
     ]
    }
   ],
   "source": [
    "# And now call it! Any problems, head to the troubleshooting guide\n",
    "# This uses GPT 4.1 nano, the incredibly cheap model\n",
    "# The APIs guide (guide 9) has exact instructions for using even cheaper or free alternatives to OpenAI\n",
    "# If you get a NameError, head to the guides folder (guide 6) to learn about NameErrors - always instantly fixable\n",
    "\n",
    "response = openai.chat.completions.create(\n",
    "    model=\"gpt-4.1-nano\",\n",
    "    messages=messages\n",
    ")\n",
    "\n",
    "print(response.choices[0].message.content)\n"
   ]
  },
  {
   "cell_type": "code",
   "execution_count": 9,
   "metadata": {},
   "outputs": [],
   "source": [
    "# And now - let's ask for a question:\n",
    "\n",
    "question = \"Please propose a hard, challenging question to assess someone's IQ. Respond only with the question.\"\n",
    "messages = [{\"role\": \"user\", \"content\": question}]\n"
   ]
  },
  {
   "cell_type": "code",
   "execution_count": 10,
   "metadata": {},
   "outputs": [
    {
     "name": "stdout",
     "output_type": "stream",
     "text": [
      "If 7 people can complete a task in 15 days working 8 hours a day, how many hours per day must 5 people work to complete the same task in 21 days?\n"
     ]
    }
   ],
   "source": [
    "# ask it - this uses GPT 4.1 mini, still cheap but more powerful than nano\n",
    "\n",
    "response = openai.chat.completions.create(\n",
    "    model=\"gpt-4.1-mini\",\n",
    "    messages=messages\n",
    ")\n",
    "\n",
    "question = response.choices[0].message.content\n",
    "\n",
    "print(question)\n"
   ]
  },
  {
   "cell_type": "code",
   "execution_count": 11,
   "metadata": {},
   "outputs": [],
   "source": [
    "# form a new messages list\n",
    "messages = [{\"role\": \"user\", \"content\": question}]\n"
   ]
  },
  {
   "cell_type": "code",
   "execution_count": 12,
   "metadata": {},
   "outputs": [
    {
     "name": "stdout",
     "output_type": "stream",
     "text": [
      "Let's analyze the problem step-by-step.\n",
      "\n",
      "**Given:**\n",
      "- 7 people working 8 hours a day take 15 days to complete the task.\n",
      "- We want to find how many hours per day (let's call it \\( x \\)) 5 people must work to complete the same task in 21 days.\n",
      "\n",
      "---\n",
      "\n",
      "### Step 1: Calculate the total work in terms of man-hours.\n",
      "\n",
      "The total work \\( W \\) can be calculated as:\n",
      "\n",
      "\\[\n",
      "W = \\text{(number of people)} \\times \\text{(hours per day)} \\times \\text{(days)}\n",
      "\\]\n",
      "\n",
      "From the first scenario:\n",
      "\n",
      "\\[\n",
      "W = 7 \\times 8 \\times 15 = 840 \\text{ man-hours}\n",
      "\\]\n",
      "\n",
      "---\n",
      "\n",
      "### Step 2: Set up the equation for the second scenario.\n",
      "\n",
      "Let \\( x \\) be the number of hours per day 5 people work to finish the task in 21 days. Since the amount of work is the same:\n",
      "\n",
      "\\[\n",
      "5 \\times x \\times 21 = 840\n",
      "\\]\n",
      "\n",
      "---\n",
      "\n",
      "### Step 3: Solve for \\( x \\):\n",
      "\n",
      "\\[\n",
      "5 \\times 21 \\times x = 840\n",
      "\\]\n",
      "\\[\n",
      "105x = 840\n",
      "\\]\n",
      "\\[\n",
      "x = \\frac{840}{105} = 8\n",
      "\\]\n",
      "\n",
      "---\n",
      "\n",
      "**Answer:**\n",
      "\n",
      "\\[\n",
      "\\boxed{8}\n",
      "\\]\n",
      "\n",
      "The 5 people must work **8 hours per day** to complete the task in 21 days.\n"
     ]
    }
   ],
   "source": [
    "# Ask it again\n",
    "\n",
    "response = openai.chat.completions.create(\n",
    "    model=\"gpt-4.1-mini\",\n",
    "    messages=messages\n",
    ")\n",
    "\n",
    "answer = response.choices[0].message.content\n",
    "print(answer)\n"
   ]
  },
  {
   "cell_type": "code",
   "execution_count": 13,
   "metadata": {},
   "outputs": [
    {
     "data": {
      "text/markdown": [
       "Let's analyze the problem step-by-step.\n",
       "\n",
       "**Given:**\n",
       "- 7 people working 8 hours a day take 15 days to complete the task.\n",
       "- We want to find how many hours per day (let's call it \\( x \\)) 5 people must work to complete the same task in 21 days.\n",
       "\n",
       "---\n",
       "\n",
       "### Step 1: Calculate the total work in terms of man-hours.\n",
       "\n",
       "The total work \\( W \\) can be calculated as:\n",
       "\n",
       "\\[\n",
       "W = \\text{(number of people)} \\times \\text{(hours per day)} \\times \\text{(days)}\n",
       "\\]\n",
       "\n",
       "From the first scenario:\n",
       "\n",
       "\\[\n",
       "W = 7 \\times 8 \\times 15 = 840 \\text{ man-hours}\n",
       "\\]\n",
       "\n",
       "---\n",
       "\n",
       "### Step 2: Set up the equation for the second scenario.\n",
       "\n",
       "Let \\( x \\) be the number of hours per day 5 people work to finish the task in 21 days. Since the amount of work is the same:\n",
       "\n",
       "\\[\n",
       "5 \\times x \\times 21 = 840\n",
       "\\]\n",
       "\n",
       "---\n",
       "\n",
       "### Step 3: Solve for \\( x \\):\n",
       "\n",
       "\\[\n",
       "5 \\times 21 \\times x = 840\n",
       "\\]\n",
       "\\[\n",
       "105x = 840\n",
       "\\]\n",
       "\\[\n",
       "x = \\frac{840}{105} = 8\n",
       "\\]\n",
       "\n",
       "---\n",
       "\n",
       "**Answer:**\n",
       "\n",
       "\\[\n",
       "\\boxed{8}\n",
       "\\]\n",
       "\n",
       "The 5 people must work **8 hours per day** to complete the task in 21 days."
      ],
      "text/plain": [
       "<IPython.core.display.Markdown object>"
      ]
     },
     "metadata": {},
     "output_type": "display_data"
    }
   ],
   "source": [
    "from IPython.display import Markdown, display\n",
    "\n",
    "display(Markdown(answer))\n",
    "\n"
   ]
  },
  {
   "cell_type": "markdown",
   "metadata": {},
   "source": [
    "# Congratulations!\n",
    "\n",
    "That was a small, simple step in the direction of Agentic AI, with your new environment!\n",
    "\n",
    "Next time things get more interesting..."
   ]
  },
  {
   "cell_type": "markdown",
   "metadata": {},
   "source": [
    "<table style=\"margin: 0; text-align: left; width:100%\">\n",
    "    <tr>\n",
    "        <td style=\"width: 150px; height: 150px; vertical-align: middle;\">\n",
    "            <img src=\"../assets/exercise.png\" width=\"150\" height=\"150\" style=\"display: block;\" />\n",
    "        </td>\n",
    "        <td>\n",
    "            <h2 style=\"color:#ff7800;\">Exercise</h2>\n",
    "            <span style=\"color:#ff7800;\">Now try this commercial application:<br/>\n",
    "            First ask the LLM to pick a business area that might be worth exploring for an Agentic AI opportunity.<br/>\n",
    "            Then ask the LLM to present a pain-point in that industry - something challenging that might be ripe for an Agentic solution.<br/>\n",
    "            Finally have 3 third LLM call propose the Agentic AI solution. <br/>\n",
    "            We will cover this at up-coming labs, so don't worry if you're unsure.. just give it a try!\n",
    "            </span>\n",
    "        </td>\n",
    "    </tr>\n",
    "</table>"
   ]
  },
  {
   "cell_type": "code",
   "execution_count": 15,
   "metadata": {},
   "outputs": [
    {
     "name": "stdout",
     "output_type": "stream",
     "text": [
      "Certainly! Here's a business idea leveraging Agentic AI:\n",
      "\n",
      "**Personalized Career Development and Portfolio Assistant**\n",
      "\n",
      "**Concept:**  \n",
      "An intelligent, agentic AI-powered platform that functions as a personal career coach and portfolio manager for professionals and students. It continuously analyzes users’ skills, experiences, and career goals, then proactively suggests learning opportunities, projects, networking events, and job applications tailored to their evolving aspirations.\n",
      "\n",
      "**How Agentic AI Enhances This:**\n",
      "- **Proactive Planning:** The AI autonomously identifies skill gaps and recommends personalized development plans, such as courses or certifications.\n",
      "- **Dynamic Portfolio Management:** It gathers and updates a user's work samples, project descriptions, and achievements, presenting a comprehensive, up-to-date professional portfolio.\n",
      "- **Networking & Opportunities:** The AI autonomously connects users with relevant industry events, webinars, and potential mentors or collaborators.\n",
      "- **Job Search & Application Automation:** It continuously scans job listings aligned with the user’s profile, prepares tailored applications, and even schedules interviews.\n",
      "- **Feedback & Improvement:** The AI monitors outcomes, offers iterative feedback, and adapts strategies to optimize career progression.\n",
      "\n",
      "**Revenue Model:**  \n",
      "Subscription-based premium plans for individuals, enterprise licenses for organizations, and partnerships with training providers or recruiters.\n",
      "\n",
      "This platform empowers users to take control of their career development with minimal manual effort, leveraging the autonomous, decision-making capabilities of Agentic AI.\n",
      "Certainly! Here are some potential pain points (paint points) associated with your business idea of an AI-powered personal career development and portfolio assistant:\n",
      "\n",
      "1. **Privacy and Data Security Concerns:**  \n",
      "   Users may worry about sharing sensitive personal information, skills, or career goals with the platform, fearing data breaches or misuse.\n",
      "\n",
      "2. **Accuracy and Relevance of Recommendations:**  \n",
      "   Ensuring that AI suggestions for skills, projects, or opportunities are genuinely aligned with individual career paths can be challenging. Poor recommendations can reduce user trust.\n",
      "\n",
      "3. **User Engagement and Motivation:**  \n",
      "   Maintaining user motivation to consistently interact with the platform, especially if progress or results are slow or not immediately visible.\n",
      "\n",
      "4. **Integration with External Platforms:**  \n",
      "   Difficulties in seamlessly connecting with third-party sites like LinkedIn, job boards, or training platforms to gather updates or apply for opportunities.\n",
      "\n",
      "5. **Over-reliance on Automation:**  \n",
      "   Users might feel that automated career advice lacks the nuanced understanding a human mentor provides, leading to dissatisfaction.\n",
      "\n",
      "6. **Cost and Accessibility:**  \n",
      "   If the platform is premium-priced, it might be inaccessible to some user segments, limiting market adoption.\n",
      "\n",
      "7. **Keeping Content and Data Up-to-Date:**  \n",
      "   Ensuring the platform consistently updates with the latest industry trends, job postings, and training resources to remain valuable.\n",
      "\n",
      "8. **Customization and Personalization Challenges:**  \n",
      "   Balancing personalized advice with scalability—making sure the AI tailors suggestions effectively for diverse career paths.\n",
      "\n",
      "9. **Scalability and Technical Complexity:**  \n",
      "   Building a highly autonomous, reliable AI system that can handle a wide variety of user profiles and careers without frequent technical issues.\n",
      "\n",
      "10. **User Trust in AI Decision-Making:**  \n",
      "    Convincing users that the AI’s autonomous decisions are reliable and beneficial, especially in high-stakes career moves.\n",
      "\n",
      "**Addressing these pain points proactively will help in building a trustworthy, effective, and user-friendly platform.**\n"
     ]
    }
   ],
   "source": [
    "# First create the messages:\n",
    "\n",
    "messages = [{\"role\": \"user\", \"content\": \"Propose a business idea that could be solved with Agentic AI\"}]\n",
    "\n",
    "# Then make the first call:\n",
    "\n",
    "response = openai.chat.completions.create(\n",
    "    model=\"gpt-4.1-nano\",\n",
    "    messages=messages\n",
    ")\n",
    "\n",
    "# Then read the business idea:\n",
    "\n",
    "business_idea = response.choices[0].message.content\n",
    "print(business_idea)\n",
    "\n",
    "# And repeat! In the next message, include the business idea within the message\n",
    "\n",
    "messages = [{\"role\": \"assistant\", \"content\": \"Find paint points in this business idea: \" + business_idea}]\n",
    "response = openai.chat.completions.create(\n",
    "    model=\"gpt-4.1-nano\",\n",
    "    messages=messages\n",
    ")\n",
    "\n",
    "print(response.choices[0].message.content)"
   ]
  },
  {
   "cell_type": "markdown",
   "metadata": {},
   "source": []
  }
 ],
 "metadata": {
  "kernelspec": {
   "display_name": ".venv",
   "language": "python",
   "name": "python3"
  },
  "language_info": {
   "codemirror_mode": {
    "name": "ipython",
    "version": 3
   },
   "file_extension": ".py",
   "mimetype": "text/x-python",
   "name": "python",
   "nbconvert_exporter": "python",
   "pygments_lexer": "ipython3",
   "version": "3.12.10"
  }
 },
 "nbformat": 4,
 "nbformat_minor": 2
}
