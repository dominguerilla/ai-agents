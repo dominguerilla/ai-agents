{
 "cells": [
  {
   "cell_type": "markdown",
   "metadata": {},
   "source": [
    "## Welcome to the Second Lab - Week 1, Day 3\n",
    "\n",
    "Today we will work with lots of models! This is a way to get comfortable with APIs."
   ]
  },
  {
   "cell_type": "markdown",
   "metadata": {},
   "source": [
    "<table style=\"margin: 0; text-align: left; width:100%\">\n",
    "    <tr>\n",
    "        <td style=\"width: 150px; height: 150px; vertical-align: middle;\">\n",
    "            <img src=\"../assets/stop.png\" width=\"150\" height=\"150\" style=\"display: block;\" />\n",
    "        </td>\n",
    "        <td>\n",
    "            <h2 style=\"color:#ff7800;\">Important point - please read</h2>\n",
    "            <span style=\"color:#ff7800;\">The way I collaborate with you may be different to other courses you've taken. I prefer not to type code while you watch. Rather, I execute Jupyter Labs, like this, and give you an intuition for what's going on. My suggestion is that you carefully execute this yourself, <b>after</b> watching the lecture. Add print statements to understand what's going on, and then come up with your own variations.<br/><br/>If you have time, I'd love it if you submit a PR for changes in the community_contributions folder - instructions in the resources. Also, if you have a Github account, use this to showcase your variations. Not only is this essential practice, but it demonstrates your skills to others, including perhaps future clients or employers...\n",
    "            </span>\n",
    "        </td>\n",
    "    </tr>\n",
    "</table>"
   ]
  },
  {
   "cell_type": "code",
   "execution_count": 1,
   "metadata": {},
   "outputs": [],
   "source": [
    "# Start with imports - ask ChatGPT to explain any package that you don't know\n",
    "\n",
    "import os\n",
    "import json\n",
    "from dotenv import load_dotenv\n",
    "from openai import OpenAI\n",
    "from anthropic import Anthropic\n",
    "from IPython.display import Markdown, display"
   ]
  },
  {
   "cell_type": "code",
   "execution_count": 2,
   "metadata": {},
   "outputs": [
    {
     "data": {
      "text/plain": [
       "True"
      ]
     },
     "execution_count": 2,
     "metadata": {},
     "output_type": "execute_result"
    }
   ],
   "source": [
    "# Always remember to do this!\n",
    "load_dotenv(override=True)"
   ]
  },
  {
   "cell_type": "code",
   "execution_count": null,
   "metadata": {},
   "outputs": [],
   "source": [
    "# Print the key prefixes to help with any debugging\n",
    "\n",
    "openai_api_key = os.getenv('OPENAI_API_KEY')\n",
    "anthropic_api_key = os.getenv('ANTHROPIC_API_KEY')\n",
    "google_api_key = os.getenv('GOOGLE_API_KEY')\n",
    "deepseek_api_key = os.getenv('DEEPSEEK_API_KEY')\n",
    "groq_api_key = os.getenv('GROQ_API_KEY')\n",
    "\n",
    "if openai_api_key:\n",
    "    print(f\"OpenAI API Key exists and begins {openai_api_key[:8]}\")\n",
    "else:\n",
    "    print(\"OpenAI API Key not set\")\n",
    "    \n",
    "if anthropic_api_key:\n",
    "    print(f\"Anthropic API Key exists and begins {anthropic_api_key[:7]}\")\n",
    "else:\n",
    "    print(\"Anthropic API Key not set (and this is optional)\")\n",
    "\n",
    "if google_api_key:\n",
    "    print(f\"Google API Key exists and begins {google_api_key[:2]}\")\n",
    "else:\n",
    "    print(\"Google API Key not set (and this is optional)\")\n",
    "\n",
    "if deepseek_api_key:\n",
    "    print(f\"DeepSeek API Key exists and begins {deepseek_api_key[:3]}\")\n",
    "else:\n",
    "    print(\"DeepSeek API Key not set (and this is optional)\")\n",
    "\n",
    "if groq_api_key:\n",
    "    print(f\"Groq API Key exists and begins {groq_api_key[:4]}\")\n",
    "else:\n",
    "    print(\"Groq API Key not set (and this is optional)\")"
   ]
  },
  {
   "cell_type": "code",
   "execution_count": 3,
   "metadata": {},
   "outputs": [],
   "source": [
    "request = \"Please come up with a challenging, nuanced question that I can ask a number of LLMs to evaluate their intelligence. \"\n",
    "request += \"Answer only with the question, no explanation.\"\n",
    "messages = [{\"role\": \"user\", \"content\": request}]"
   ]
  },
  {
   "cell_type": "code",
   "execution_count": 4,
   "metadata": {},
   "outputs": [
    {
     "data": {
      "text/plain": [
       "[{'role': 'user',\n",
       "  'content': 'Please come up with a challenging, nuanced question that I can ask a number of LLMs to evaluate their intelligence. Answer only with the question, no explanation.'}]"
      ]
     },
     "execution_count": 4,
     "metadata": {},
     "output_type": "execute_result"
    }
   ],
   "source": [
    "messages"
   ]
  },
  {
   "cell_type": "code",
   "execution_count": 5,
   "metadata": {},
   "outputs": [
    {
     "name": "stdout",
     "output_type": "stream",
     "text": [
      "If a time traveler were to visit our current era and attempt to influence a major historical event, what ethical considerations should they weigh before taking action, and how might their decisions reshape the course of history in both immediate and long-term contexts?\n"
     ]
    }
   ],
   "source": [
    "openai = OpenAI()\n",
    "response = openai.chat.completions.create(\n",
    "    model=\"gpt-4o-mini\",\n",
    "    messages=messages,\n",
    ")\n",
    "question = response.choices[0].message.content\n",
    "print(question)\n"
   ]
  },
  {
   "cell_type": "code",
   "execution_count": 6,
   "metadata": {},
   "outputs": [],
   "source": [
    "competitors = []\n",
    "answers = []\n",
    "messages = [{\"role\": \"user\", \"content\": question}]"
   ]
  },
  {
   "cell_type": "code",
   "execution_count": 7,
   "metadata": {},
   "outputs": [
    {
     "data": {
      "text/markdown": [
       "The concept of time travel raises profound ethical considerations, particularly when it involves influencing major historical events. Here are several key ethical considerations a time traveler should weigh before taking action:\n",
       "\n",
       "### Ethical Considerations\n",
       "\n",
       "1. **Informed Consent**: Many events involve countless individuals whose lives are impacted. Influencing a major historical event without the consent or awareness of those affected raises ethical dilemmas. The time traveler must consider whether it is right to change the course of lives without input from those living within that historical context.\n",
       "\n",
       "2. **Unintended Consequences**: Introducing changes to history could lead to unforeseen consequences. The \"butterfly effect\" suggests that small changes can result in significant differences over time. The time traveler must weigh the potential positive outcomes against the risk of creating negative consequences that could harm future generations.\n",
       "\n",
       "3. **Moral Responsibility**: The time traveler needs to reflect on their motivations and the implications of their actions. Do they believe they can enact change for the better? And if so, are they morally justified in taking such actions, considering they may be playing god with the lives of many?\n",
       "\n",
       "4. **Cultural Sensitivity**: Understanding the social, political, and cultural contexts of the era is crucial. A time traveler from a modern era may not fully grasp the norms, taboos, and values of a past society, leading to actions that could be reckless or disrespectful.\n",
       "\n",
       "5. **Historical Integrity**: The idea of historical integrity—the belief that history should follow its natural course without interference—poses a philosophical question. Changing a significant event may lead to debates over the authenticity of historical narratives and the value of learning from past mistakes.\n",
       "\n",
       "6. **Potential for Dictatorship of the Future**: If the time traveler is acting on behalf of a specific ideology or group, they must reflect on whether their actions may inadvertently empower future tyrants or lead to oppressive regimes, even if their intended goals were altruistic.\n",
       "\n",
       "### Immediate and Long-term Implications\n",
       "\n",
       "- **Immediate Implications**: Changes made to a significant event could lead to immediate shifts in political power, social dynamics, economic conditions, and individual lives. For example, preventing a war might save lives in the short term but could also lead to a power vacuum or greater conflict later.\n",
       "\n",
       "- **Long-term Implications**: Long after the immediate effects fade, the ramifications of the time traveler’s actions could unfold over generations. New social, cultural, and historical trajectories might emerge, potentially leading to a world that could be more advanced, equitable, or, conversely, more chaotic, depending on the nature of the changes made.\n",
       "\n",
       "- **Alternate Histories**: The emergence of alternate timelines or parallel universes—essentially creating a new branch of history—could arise from the time traveler’s interference. This could lead to a multitude of possible futures, complicating the moral landscape even further.\n",
       "\n",
       "### Conclusion\n",
       "\n",
       "The influence of a time traveler on historical events presents a complex interplay of moral dilemmas, potential benefits, and risks. Balancing the desire to improve the world against the inherent uncertainties of altering history requires thoughtful consideration and a deep understanding of both the past and the potential futures that could arise from their actions. Ultimately, the decisions made would not only reflect their ethical stance but shape the very fabric of reality, creating a legacy that extends far beyond their individual aspirations."
      ],
      "text/plain": [
       "<IPython.core.display.Markdown object>"
      ]
     },
     "metadata": {},
     "output_type": "display_data"
    }
   ],
   "source": [
    "# The API we know well\n",
    "\n",
    "model_name = \"gpt-4o-mini\"\n",
    "\n",
    "response = openai.chat.completions.create(model=model_name, messages=messages)\n",
    "answer = response.choices[0].message.content\n",
    "\n",
    "display(Markdown(answer))\n",
    "competitors.append(model_name)\n",
    "answers.append(answer)"
   ]
  },
  {
   "cell_type": "code",
   "execution_count": null,
   "metadata": {},
   "outputs": [],
   "source": [
    "# Anthropic has a slightly different API, and Max Tokens is required\n",
    "\n",
    "model_name = \"claude-3-7-sonnet-latest\"\n",
    "\n",
    "claude = Anthropic()\n",
    "response = claude.messages.create(model=model_name, messages=messages, max_tokens=1000)\n",
    "answer = response.content[0].text\n",
    "\n",
    "display(Markdown(answer))\n",
    "competitors.append(model_name)\n",
    "answers.append(answer)"
   ]
  },
  {
   "cell_type": "code",
   "execution_count": null,
   "metadata": {},
   "outputs": [],
   "source": [
    "gemini = OpenAI(api_key=google_api_key, base_url=\"https://generativelanguage.googleapis.com/v1beta/openai/\")\n",
    "model_name = \"gemini-2.0-flash\"\n",
    "\n",
    "response = gemini.chat.completions.create(model=model_name, messages=messages)\n",
    "answer = response.choices[0].message.content\n",
    "\n",
    "display(Markdown(answer))\n",
    "competitors.append(model_name)\n",
    "answers.append(answer)"
   ]
  },
  {
   "cell_type": "code",
   "execution_count": null,
   "metadata": {},
   "outputs": [],
   "source": [
    "deepseek = OpenAI(api_key=deepseek_api_key, base_url=\"https://api.deepseek.com/v1\")\n",
    "model_name = \"deepseek-chat\"\n",
    "\n",
    "response = deepseek.chat.completions.create(model=model_name, messages=messages)\n",
    "answer = response.choices[0].message.content\n",
    "\n",
    "display(Markdown(answer))\n",
    "competitors.append(model_name)\n",
    "answers.append(answer)"
   ]
  },
  {
   "cell_type": "code",
   "execution_count": null,
   "metadata": {},
   "outputs": [],
   "source": [
    "groq = OpenAI(api_key=groq_api_key, base_url=\"https://api.groq.com/openai/v1\")\n",
    "model_name = \"llama-3.3-70b-versatile\"\n",
    "\n",
    "response = groq.chat.completions.create(model=model_name, messages=messages)\n",
    "answer = response.choices[0].message.content\n",
    "\n",
    "display(Markdown(answer))\n",
    "competitors.append(model_name)\n",
    "answers.append(answer)\n"
   ]
  },
  {
   "cell_type": "markdown",
   "metadata": {},
   "source": [
    "## For the next cell, we will use Ollama\n",
    "\n",
    "Ollama runs a local web service that gives an OpenAI compatible endpoint,  \n",
    "and runs models locally using high performance C++ code.\n",
    "\n",
    "If you don't have Ollama, install it here by visiting https://ollama.com then pressing Download and following the instructions.\n",
    "\n",
    "After it's installed, you should be able to visit here: http://localhost:11434 and see the message \"Ollama is running\"\n",
    "\n",
    "You might need to restart Cursor (and maybe reboot). Then open a Terminal (control+\\`) and run `ollama serve`\n",
    "\n",
    "Useful Ollama commands (run these in the terminal, or with an exclamation mark in this notebook):\n",
    "\n",
    "`ollama pull <model_name>` downloads a model locally  \n",
    "`ollama ls` lists all the models you've downloaded  \n",
    "`ollama rm <model_name>` deletes the specified model from your downloads"
   ]
  },
  {
   "cell_type": "markdown",
   "metadata": {},
   "source": [
    "<table style=\"margin: 0; text-align: left; width:100%\">\n",
    "    <tr>\n",
    "        <td style=\"width: 150px; height: 150px; vertical-align: middle;\">\n",
    "            <img src=\"../assets/stop.png\" width=\"150\" height=\"150\" style=\"display: block;\" />\n",
    "        </td>\n",
    "        <td>\n",
    "            <h2 style=\"color:#ff7800;\">Super important - ignore me at your peril!</h2>\n",
    "            <span style=\"color:#ff7800;\">The model called <b>llama3.3</b> is FAR too large for home computers - it's not intended for personal computing and will consume all your resources! Stick with the nicely sized <b>llama3.2</b> or <b>llama3.2:1b</b> and if you want larger, try llama3.1 or smaller variants of Qwen, Gemma, Phi or DeepSeek. See the <A href=\"https://ollama.com/models\">the Ollama models page</a> for a full list of models and sizes.\n",
    "            </span>\n",
    "        </td>\n",
    "    </tr>\n",
    "</table>"
   ]
  },
  {
   "cell_type": "code",
   "execution_count": null,
   "metadata": {},
   "outputs": [],
   "source": [
    "!ollama pull llama3.2"
   ]
  },
  {
   "cell_type": "code",
   "execution_count": 8,
   "metadata": {},
   "outputs": [
    {
     "data": {
      "text/markdown": [
       "If a time traveler were to visit our current era and attempt to influence a major historical event, their actions would raise significant ethical concerns. Here are some key considerations:\n",
       "\n",
       "1\\. **Causality and unintended consequences**: Intervening in a specific historical event could have unforeseen effects on the timeline, potentially disrupting events that led to future outcomes. This can create paradoxes, such as the butterfly effect, where small changes result in drastic alterations to history.\n",
       "\n",
       "2\\. **Informed decision-making**: The time traveler should gather accurate and unbiased information about the current state of the world, the historical event they're trying to influence, and its potential consequences. They must weigh the potential benefits against the risks and consider multiple scenarios before acting.\n",
       "\n",
       "3\\. **Respect for free will and agency**: Manipulating an individual or group from a position of authority can undermine their autonomy and decision-making capacity. This might be particularly problematic if it involves altering events that have already happened, which could limit the time traveler's ability to shape history in meaningful ways.\n",
       "\n",
       "4\\. **Non-interference principle**: This ethical consideration suggests refraining from interfering with historical outcomes for at least two reasons; 1) interfering can destroy relationships that form as a result of the original course of events, and 2) altering the past might create a timeline where your actions have consequences only available in an alternate reality to you or possibly destroying the world which you currently know.\n",
       "\n",
       "5\\. **Temporal responsibility**: Depending on how they manage their influence over the event the time traveler may need to face some form of temporal punishment for interfering with an original timeline."
      ],
      "text/plain": [
       "<IPython.core.display.Markdown object>"
      ]
     },
     "metadata": {},
     "output_type": "display_data"
    }
   ],
   "source": [
    "ollama = OpenAI(base_url='http://localhost:11434/v1', api_key='ollama')\n",
    "model_name = \"llama3.2\"\n",
    "\n",
    "response = ollama.chat.completions.create(model=model_name, messages=messages)\n",
    "answer = response.choices[0].message.content\n",
    "\n",
    "display(Markdown(answer))\n",
    "competitors.append(model_name)\n",
    "answers.append(answer)"
   ]
  },
  {
   "cell_type": "code",
   "execution_count": 9,
   "metadata": {},
   "outputs": [
    {
     "name": "stdout",
     "output_type": "stream",
     "text": [
      "['gpt-4o-mini', 'llama3.2']\n",
      "['The concept of time travel raises profound ethical considerations, particularly when it involves influencing major historical events. Here are several key ethical considerations a time traveler should weigh before taking action:\\n\\n### Ethical Considerations\\n\\n1. **Informed Consent**: Many events involve countless individuals whose lives are impacted. Influencing a major historical event without the consent or awareness of those affected raises ethical dilemmas. The time traveler must consider whether it is right to change the course of lives without input from those living within that historical context.\\n\\n2. **Unintended Consequences**: Introducing changes to history could lead to unforeseen consequences. The \"butterfly effect\" suggests that small changes can result in significant differences over time. The time traveler must weigh the potential positive outcomes against the risk of creating negative consequences that could harm future generations.\\n\\n3. **Moral Responsibility**: The time traveler needs to reflect on their motivations and the implications of their actions. Do they believe they can enact change for the better? And if so, are they morally justified in taking such actions, considering they may be playing god with the lives of many?\\n\\n4. **Cultural Sensitivity**: Understanding the social, political, and cultural contexts of the era is crucial. A time traveler from a modern era may not fully grasp the norms, taboos, and values of a past society, leading to actions that could be reckless or disrespectful.\\n\\n5. **Historical Integrity**: The idea of historical integrity—the belief that history should follow its natural course without interference—poses a philosophical question. Changing a significant event may lead to debates over the authenticity of historical narratives and the value of learning from past mistakes.\\n\\n6. **Potential for Dictatorship of the Future**: If the time traveler is acting on behalf of a specific ideology or group, they must reflect on whether their actions may inadvertently empower future tyrants or lead to oppressive regimes, even if their intended goals were altruistic.\\n\\n### Immediate and Long-term Implications\\n\\n- **Immediate Implications**: Changes made to a significant event could lead to immediate shifts in political power, social dynamics, economic conditions, and individual lives. For example, preventing a war might save lives in the short term but could also lead to a power vacuum or greater conflict later.\\n\\n- **Long-term Implications**: Long after the immediate effects fade, the ramifications of the time traveler’s actions could unfold over generations. New social, cultural, and historical trajectories might emerge, potentially leading to a world that could be more advanced, equitable, or, conversely, more chaotic, depending on the nature of the changes made.\\n\\n- **Alternate Histories**: The emergence of alternate timelines or parallel universes—essentially creating a new branch of history—could arise from the time traveler’s interference. This could lead to a multitude of possible futures, complicating the moral landscape even further.\\n\\n### Conclusion\\n\\nThe influence of a time traveler on historical events presents a complex interplay of moral dilemmas, potential benefits, and risks. Balancing the desire to improve the world against the inherent uncertainties of altering history requires thoughtful consideration and a deep understanding of both the past and the potential futures that could arise from their actions. Ultimately, the decisions made would not only reflect their ethical stance but shape the very fabric of reality, creating a legacy that extends far beyond their individual aspirations.', \"If a time traveler were to visit our current era and attempt to influence a major historical event, their actions would raise significant ethical concerns. Here are some key considerations:\\n\\n1\\\\. **Causality and unintended consequences**: Intervening in a specific historical event could have unforeseen effects on the timeline, potentially disrupting events that led to future outcomes. This can create paradoxes, such as the butterfly effect, where small changes result in drastic alterations to history.\\n\\n2\\\\. **Informed decision-making**: The time traveler should gather accurate and unbiased information about the current state of the world, the historical event they're trying to influence, and its potential consequences. They must weigh the potential benefits against the risks and consider multiple scenarios before acting.\\n\\n3\\\\. **Respect for free will and agency**: Manipulating an individual or group from a position of authority can undermine their autonomy and decision-making capacity. This might be particularly problematic if it involves altering events that have already happened, which could limit the time traveler's ability to shape history in meaningful ways.\\n\\n4\\\\. **Non-interference principle**: This ethical consideration suggests refraining from interfering with historical outcomes for at least two reasons; 1) interfering can destroy relationships that form as a result of the original course of events, and 2) altering the past might create a timeline where your actions have consequences only available in an alternate reality to you or possibly destroying the world which you currently know.\\n\\n5\\\\. **Temporal responsibility**: Depending on how they manage their influence over the event the time traveler may need to face some form of temporal punishment for interfering with an original timeline.\"]\n"
     ]
    }
   ],
   "source": [
    "# So where are we?\n",
    "\n",
    "print(competitors)\n",
    "print(answers)\n"
   ]
  },
  {
   "cell_type": "code",
   "execution_count": 10,
   "metadata": {},
   "outputs": [
    {
     "name": "stdout",
     "output_type": "stream",
     "text": [
      "Competitor: gpt-4o-mini\n",
      "\n",
      "The concept of time travel raises profound ethical considerations, particularly when it involves influencing major historical events. Here are several key ethical considerations a time traveler should weigh before taking action:\n",
      "\n",
      "### Ethical Considerations\n",
      "\n",
      "1. **Informed Consent**: Many events involve countless individuals whose lives are impacted. Influencing a major historical event without the consent or awareness of those affected raises ethical dilemmas. The time traveler must consider whether it is right to change the course of lives without input from those living within that historical context.\n",
      "\n",
      "2. **Unintended Consequences**: Introducing changes to history could lead to unforeseen consequences. The \"butterfly effect\" suggests that small changes can result in significant differences over time. The time traveler must weigh the potential positive outcomes against the risk of creating negative consequences that could harm future generations.\n",
      "\n",
      "3. **Moral Responsibility**: The time traveler needs to reflect on their motivations and the implications of their actions. Do they believe they can enact change for the better? And if so, are they morally justified in taking such actions, considering they may be playing god with the lives of many?\n",
      "\n",
      "4. **Cultural Sensitivity**: Understanding the social, political, and cultural contexts of the era is crucial. A time traveler from a modern era may not fully grasp the norms, taboos, and values of a past society, leading to actions that could be reckless or disrespectful.\n",
      "\n",
      "5. **Historical Integrity**: The idea of historical integrity—the belief that history should follow its natural course without interference—poses a philosophical question. Changing a significant event may lead to debates over the authenticity of historical narratives and the value of learning from past mistakes.\n",
      "\n",
      "6. **Potential for Dictatorship of the Future**: If the time traveler is acting on behalf of a specific ideology or group, they must reflect on whether their actions may inadvertently empower future tyrants or lead to oppressive regimes, even if their intended goals were altruistic.\n",
      "\n",
      "### Immediate and Long-term Implications\n",
      "\n",
      "- **Immediate Implications**: Changes made to a significant event could lead to immediate shifts in political power, social dynamics, economic conditions, and individual lives. For example, preventing a war might save lives in the short term but could also lead to a power vacuum or greater conflict later.\n",
      "\n",
      "- **Long-term Implications**: Long after the immediate effects fade, the ramifications of the time traveler’s actions could unfold over generations. New social, cultural, and historical trajectories might emerge, potentially leading to a world that could be more advanced, equitable, or, conversely, more chaotic, depending on the nature of the changes made.\n",
      "\n",
      "- **Alternate Histories**: The emergence of alternate timelines or parallel universes—essentially creating a new branch of history—could arise from the time traveler’s interference. This could lead to a multitude of possible futures, complicating the moral landscape even further.\n",
      "\n",
      "### Conclusion\n",
      "\n",
      "The influence of a time traveler on historical events presents a complex interplay of moral dilemmas, potential benefits, and risks. Balancing the desire to improve the world against the inherent uncertainties of altering history requires thoughtful consideration and a deep understanding of both the past and the potential futures that could arise from their actions. Ultimately, the decisions made would not only reflect their ethical stance but shape the very fabric of reality, creating a legacy that extends far beyond their individual aspirations.\n",
      "Competitor: llama3.2\n",
      "\n",
      "If a time traveler were to visit our current era and attempt to influence a major historical event, their actions would raise significant ethical concerns. Here are some key considerations:\n",
      "\n",
      "1\\. **Causality and unintended consequences**: Intervening in a specific historical event could have unforeseen effects on the timeline, potentially disrupting events that led to future outcomes. This can create paradoxes, such as the butterfly effect, where small changes result in drastic alterations to history.\n",
      "\n",
      "2\\. **Informed decision-making**: The time traveler should gather accurate and unbiased information about the current state of the world, the historical event they're trying to influence, and its potential consequences. They must weigh the potential benefits against the risks and consider multiple scenarios before acting.\n",
      "\n",
      "3\\. **Respect for free will and agency**: Manipulating an individual or group from a position of authority can undermine their autonomy and decision-making capacity. This might be particularly problematic if it involves altering events that have already happened, which could limit the time traveler's ability to shape history in meaningful ways.\n",
      "\n",
      "4\\. **Non-interference principle**: This ethical consideration suggests refraining from interfering with historical outcomes for at least two reasons; 1) interfering can destroy relationships that form as a result of the original course of events, and 2) altering the past might create a timeline where your actions have consequences only available in an alternate reality to you or possibly destroying the world which you currently know.\n",
      "\n",
      "5\\. **Temporal responsibility**: Depending on how they manage their influence over the event the time traveler may need to face some form of temporal punishment for interfering with an original timeline.\n"
     ]
    }
   ],
   "source": [
    "# It's nice to know how to use \"zip\"\n",
    "for competitor, answer in zip(competitors, answers):\n",
    "    print(f\"Competitor: {competitor}\\n\\n{answer}\")\n"
   ]
  },
  {
   "cell_type": "code",
   "execution_count": 11,
   "metadata": {},
   "outputs": [],
   "source": [
    "# Let's bring this together - note the use of \"enumerate\"\n",
    "\n",
    "together = \"\"\n",
    "for index, answer in enumerate(answers):\n",
    "    together += f\"# Response from competitor {index+1}\\n\\n\"\n",
    "    together += answer + \"\\n\\n\""
   ]
  },
  {
   "cell_type": "code",
   "execution_count": 12,
   "metadata": {},
   "outputs": [
    {
     "name": "stdout",
     "output_type": "stream",
     "text": [
      "# Response from competitor 1\n",
      "\n",
      "The concept of time travel raises profound ethical considerations, particularly when it involves influencing major historical events. Here are several key ethical considerations a time traveler should weigh before taking action:\n",
      "\n",
      "### Ethical Considerations\n",
      "\n",
      "1. **Informed Consent**: Many events involve countless individuals whose lives are impacted. Influencing a major historical event without the consent or awareness of those affected raises ethical dilemmas. The time traveler must consider whether it is right to change the course of lives without input from those living within that historical context.\n",
      "\n",
      "2. **Unintended Consequences**: Introducing changes to history could lead to unforeseen consequences. The \"butterfly effect\" suggests that small changes can result in significant differences over time. The time traveler must weigh the potential positive outcomes against the risk of creating negative consequences that could harm future generations.\n",
      "\n",
      "3. **Moral Responsibility**: The time traveler needs to reflect on their motivations and the implications of their actions. Do they believe they can enact change for the better? And if so, are they morally justified in taking such actions, considering they may be playing god with the lives of many?\n",
      "\n",
      "4. **Cultural Sensitivity**: Understanding the social, political, and cultural contexts of the era is crucial. A time traveler from a modern era may not fully grasp the norms, taboos, and values of a past society, leading to actions that could be reckless or disrespectful.\n",
      "\n",
      "5. **Historical Integrity**: The idea of historical integrity—the belief that history should follow its natural course without interference—poses a philosophical question. Changing a significant event may lead to debates over the authenticity of historical narratives and the value of learning from past mistakes.\n",
      "\n",
      "6. **Potential for Dictatorship of the Future**: If the time traveler is acting on behalf of a specific ideology or group, they must reflect on whether their actions may inadvertently empower future tyrants or lead to oppressive regimes, even if their intended goals were altruistic.\n",
      "\n",
      "### Immediate and Long-term Implications\n",
      "\n",
      "- **Immediate Implications**: Changes made to a significant event could lead to immediate shifts in political power, social dynamics, economic conditions, and individual lives. For example, preventing a war might save lives in the short term but could also lead to a power vacuum or greater conflict later.\n",
      "\n",
      "- **Long-term Implications**: Long after the immediate effects fade, the ramifications of the time traveler’s actions could unfold over generations. New social, cultural, and historical trajectories might emerge, potentially leading to a world that could be more advanced, equitable, or, conversely, more chaotic, depending on the nature of the changes made.\n",
      "\n",
      "- **Alternate Histories**: The emergence of alternate timelines or parallel universes—essentially creating a new branch of history—could arise from the time traveler’s interference. This could lead to a multitude of possible futures, complicating the moral landscape even further.\n",
      "\n",
      "### Conclusion\n",
      "\n",
      "The influence of a time traveler on historical events presents a complex interplay of moral dilemmas, potential benefits, and risks. Balancing the desire to improve the world against the inherent uncertainties of altering history requires thoughtful consideration and a deep understanding of both the past and the potential futures that could arise from their actions. Ultimately, the decisions made would not only reflect their ethical stance but shape the very fabric of reality, creating a legacy that extends far beyond their individual aspirations.\n",
      "\n",
      "# Response from competitor 2\n",
      "\n",
      "If a time traveler were to visit our current era and attempt to influence a major historical event, their actions would raise significant ethical concerns. Here are some key considerations:\n",
      "\n",
      "1\\. **Causality and unintended consequences**: Intervening in a specific historical event could have unforeseen effects on the timeline, potentially disrupting events that led to future outcomes. This can create paradoxes, such as the butterfly effect, where small changes result in drastic alterations to history.\n",
      "\n",
      "2\\. **Informed decision-making**: The time traveler should gather accurate and unbiased information about the current state of the world, the historical event they're trying to influence, and its potential consequences. They must weigh the potential benefits against the risks and consider multiple scenarios before acting.\n",
      "\n",
      "3\\. **Respect for free will and agency**: Manipulating an individual or group from a position of authority can undermine their autonomy and decision-making capacity. This might be particularly problematic if it involves altering events that have already happened, which could limit the time traveler's ability to shape history in meaningful ways.\n",
      "\n",
      "4\\. **Non-interference principle**: This ethical consideration suggests refraining from interfering with historical outcomes for at least two reasons; 1) interfering can destroy relationships that form as a result of the original course of events, and 2) altering the past might create a timeline where your actions have consequences only available in an alternate reality to you or possibly destroying the world which you currently know.\n",
      "\n",
      "5\\. **Temporal responsibility**: Depending on how they manage their influence over the event the time traveler may need to face some form of temporal punishment for interfering with an original timeline.\n",
      "\n",
      "\n"
     ]
    }
   ],
   "source": [
    "print(together)"
   ]
  },
  {
   "cell_type": "code",
   "execution_count": 13,
   "metadata": {},
   "outputs": [],
   "source": [
    "judge = f\"\"\"You are judging a competition between {len(competitors)} competitors.\n",
    "Each model has been given this question:\n",
    "\n",
    "{question}\n",
    "\n",
    "Your job is to evaluate each response for clarity and strength of argument, and rank them in order of best to worst.\n",
    "Respond with JSON, and only JSON, with the following format:\n",
    "{{\"results\": [\"best competitor number\", \"second best competitor number\", \"third best competitor number\", ...]}}\n",
    "\n",
    "Here are the responses from each competitor:\n",
    "\n",
    "{together}\n",
    "\n",
    "Now respond with the JSON with the ranked order of the competitors, nothing else. Do not include markdown formatting or code blocks.\"\"\"\n"
   ]
  },
  {
   "cell_type": "code",
   "execution_count": 14,
   "metadata": {},
   "outputs": [
    {
     "name": "stdout",
     "output_type": "stream",
     "text": [
      "You are judging a competition between 2 competitors.\n",
      "Each model has been given this question:\n",
      "\n",
      "If a time traveler were to visit our current era and attempt to influence a major historical event, what ethical considerations should they weigh before taking action, and how might their decisions reshape the course of history in both immediate and long-term contexts?\n",
      "\n",
      "Your job is to evaluate each response for clarity and strength of argument, and rank them in order of best to worst.\n",
      "Respond with JSON, and only JSON, with the following format:\n",
      "{\"results\": [\"best competitor number\", \"second best competitor number\", \"third best competitor number\", ...]}\n",
      "\n",
      "Here are the responses from each competitor:\n",
      "\n",
      "# Response from competitor 1\n",
      "\n",
      "The concept of time travel raises profound ethical considerations, particularly when it involves influencing major historical events. Here are several key ethical considerations a time traveler should weigh before taking action:\n",
      "\n",
      "### Ethical Considerations\n",
      "\n",
      "1. **Informed Consent**: Many events involve countless individuals whose lives are impacted. Influencing a major historical event without the consent or awareness of those affected raises ethical dilemmas. The time traveler must consider whether it is right to change the course of lives without input from those living within that historical context.\n",
      "\n",
      "2. **Unintended Consequences**: Introducing changes to history could lead to unforeseen consequences. The \"butterfly effect\" suggests that small changes can result in significant differences over time. The time traveler must weigh the potential positive outcomes against the risk of creating negative consequences that could harm future generations.\n",
      "\n",
      "3. **Moral Responsibility**: The time traveler needs to reflect on their motivations and the implications of their actions. Do they believe they can enact change for the better? And if so, are they morally justified in taking such actions, considering they may be playing god with the lives of many?\n",
      "\n",
      "4. **Cultural Sensitivity**: Understanding the social, political, and cultural contexts of the era is crucial. A time traveler from a modern era may not fully grasp the norms, taboos, and values of a past society, leading to actions that could be reckless or disrespectful.\n",
      "\n",
      "5. **Historical Integrity**: The idea of historical integrity—the belief that history should follow its natural course without interference—poses a philosophical question. Changing a significant event may lead to debates over the authenticity of historical narratives and the value of learning from past mistakes.\n",
      "\n",
      "6. **Potential for Dictatorship of the Future**: If the time traveler is acting on behalf of a specific ideology or group, they must reflect on whether their actions may inadvertently empower future tyrants or lead to oppressive regimes, even if their intended goals were altruistic.\n",
      "\n",
      "### Immediate and Long-term Implications\n",
      "\n",
      "- **Immediate Implications**: Changes made to a significant event could lead to immediate shifts in political power, social dynamics, economic conditions, and individual lives. For example, preventing a war might save lives in the short term but could also lead to a power vacuum or greater conflict later.\n",
      "\n",
      "- **Long-term Implications**: Long after the immediate effects fade, the ramifications of the time traveler’s actions could unfold over generations. New social, cultural, and historical trajectories might emerge, potentially leading to a world that could be more advanced, equitable, or, conversely, more chaotic, depending on the nature of the changes made.\n",
      "\n",
      "- **Alternate Histories**: The emergence of alternate timelines or parallel universes—essentially creating a new branch of history—could arise from the time traveler’s interference. This could lead to a multitude of possible futures, complicating the moral landscape even further.\n",
      "\n",
      "### Conclusion\n",
      "\n",
      "The influence of a time traveler on historical events presents a complex interplay of moral dilemmas, potential benefits, and risks. Balancing the desire to improve the world against the inherent uncertainties of altering history requires thoughtful consideration and a deep understanding of both the past and the potential futures that could arise from their actions. Ultimately, the decisions made would not only reflect their ethical stance but shape the very fabric of reality, creating a legacy that extends far beyond their individual aspirations.\n",
      "\n",
      "# Response from competitor 2\n",
      "\n",
      "If a time traveler were to visit our current era and attempt to influence a major historical event, their actions would raise significant ethical concerns. Here are some key considerations:\n",
      "\n",
      "1\\. **Causality and unintended consequences**: Intervening in a specific historical event could have unforeseen effects on the timeline, potentially disrupting events that led to future outcomes. This can create paradoxes, such as the butterfly effect, where small changes result in drastic alterations to history.\n",
      "\n",
      "2\\. **Informed decision-making**: The time traveler should gather accurate and unbiased information about the current state of the world, the historical event they're trying to influence, and its potential consequences. They must weigh the potential benefits against the risks and consider multiple scenarios before acting.\n",
      "\n",
      "3\\. **Respect for free will and agency**: Manipulating an individual or group from a position of authority can undermine their autonomy and decision-making capacity. This might be particularly problematic if it involves altering events that have already happened, which could limit the time traveler's ability to shape history in meaningful ways.\n",
      "\n",
      "4\\. **Non-interference principle**: This ethical consideration suggests refraining from interfering with historical outcomes for at least two reasons; 1) interfering can destroy relationships that form as a result of the original course of events, and 2) altering the past might create a timeline where your actions have consequences only available in an alternate reality to you or possibly destroying the world which you currently know.\n",
      "\n",
      "5\\. **Temporal responsibility**: Depending on how they manage their influence over the event the time traveler may need to face some form of temporal punishment for interfering with an original timeline.\n",
      "\n",
      "\n",
      "\n",
      "Now respond with the JSON with the ranked order of the competitors, nothing else. Do not include markdown formatting or code blocks.\n"
     ]
    }
   ],
   "source": [
    "print(judge)"
   ]
  },
  {
   "cell_type": "code",
   "execution_count": 15,
   "metadata": {},
   "outputs": [],
   "source": [
    "judge_messages = [{\"role\": \"user\", \"content\": judge}]"
   ]
  },
  {
   "cell_type": "code",
   "execution_count": 16,
   "metadata": {},
   "outputs": [
    {
     "name": "stdout",
     "output_type": "stream",
     "text": [
      "{\"results\": [\"1\", \"2\"]}\n"
     ]
    }
   ],
   "source": [
    "# Judgement time!\n",
    "\n",
    "openai = OpenAI()\n",
    "response = openai.chat.completions.create(\n",
    "    model=\"o3-mini\",\n",
    "    messages=judge_messages,\n",
    ")\n",
    "results = response.choices[0].message.content\n",
    "print(results)\n"
   ]
  },
  {
   "cell_type": "code",
   "execution_count": 17,
   "metadata": {},
   "outputs": [
    {
     "name": "stdout",
     "output_type": "stream",
     "text": [
      "Rank 1: gpt-4o-mini\n",
      "Rank 2: llama3.2\n"
     ]
    }
   ],
   "source": [
    "# OK let's turn this into results!\n",
    "\n",
    "results_dict = json.loads(results)\n",
    "ranks = results_dict[\"results\"]\n",
    "for index, result in enumerate(ranks):\n",
    "    competitor = competitors[int(result)-1]\n",
    "    print(f\"Rank {index+1}: {competitor}\")"
   ]
  },
  {
   "cell_type": "markdown",
   "metadata": {},
   "source": [
    "<table style=\"margin: 0; text-align: left; width:100%\">\n",
    "    <tr>\n",
    "        <td style=\"width: 150px; height: 150px; vertical-align: middle;\">\n",
    "            <img src=\"../assets/exercise.png\" width=\"150\" height=\"150\" style=\"display: block;\" />\n",
    "        </td>\n",
    "        <td>\n",
    "            <h2 style=\"color:#ff7800;\">Exercise</h2>\n",
    "            <span style=\"color:#ff7800;\">Which pattern(s) did this use? Try updating this to add another Agentic design pattern.\n",
    "            </span>\n",
    "        </td>\n",
    "    </tr>\n",
    "</table>"
   ]
  },
  {
   "cell_type": "markdown",
   "metadata": {},
   "source": [
    "<table style=\"margin: 0; text-align: left; width:100%\">\n",
    "    <tr>\n",
    "        <td style=\"width: 150px; height: 150px; vertical-align: middle;\">\n",
    "            <img src=\"../assets/business.png\" width=\"150\" height=\"150\" style=\"display: block;\" />\n",
    "        </td>\n",
    "        <td>\n",
    "            <h2 style=\"color:#00bfff;\">Commercial implications</h2>\n",
    "            <span style=\"color:#00bfff;\">These kinds of patterns - to send a task to multiple models, and evaluate results,\n",
    "            are common where you need to improve the quality of your LLM response. This approach can be universally applied\n",
    "            to business projects where accuracy is critical.\n",
    "            </span>\n",
    "        </td>\n",
    "    </tr>\n",
    "</table>"
   ]
  }
 ],
 "metadata": {
  "kernelspec": {
   "display_name": ".venv",
   "language": "python",
   "name": "python3"
  },
  "language_info": {
   "codemirror_mode": {
    "name": "ipython",
    "version": 3
   },
   "file_extension": ".py",
   "mimetype": "text/x-python",
   "name": "python",
   "nbconvert_exporter": "python",
   "pygments_lexer": "ipython3",
   "version": "3.12.10"
  }
 },
 "nbformat": 4,
 "nbformat_minor": 2
}
